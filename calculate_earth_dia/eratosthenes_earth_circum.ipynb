{
 "cells": [
  {
   "cell_type": "markdown",
   "metadata": {},
   "source": [
    "## Who is Eratosthenes ? How did he calculate Earth's diameter in 240 BC?\n",
    "\n",
    "\n",
    "### Life and Times\n",
    "\n",
    "<img src=\"erat1.png\" align=\"left\" width=250px />\n",
    "<img src=\"erat2.png\" align=\"left\" width=400px />\n",
    "\n",
    "\n",
    "The son of Aglaos, Eratosthenes was born in 276 BC in Cyrene. Now part of modern-day Libya, Cyrene had been founded by Greeks centuries earlier and became the capital of Pentapolis (North Africa), a country of five cities: Cyrene, Arsinoe, Berenice, Ptolemias, and Apollonia. Alexander the Great conquered Cyrene in 332 BC, and following his death in 323 BC, its rule was given to one of his generals, Ptolemy I Soter, the founder of the Ptolemaic Kingdom. Under Ptolemaic rule the economy prospered, based largely on the export of horses and silphium, a plant used for rich seasoning and medicine. Cyrene became a place of cultivation, where knowledge blossomed. Like any young Greek at the time, Eratosthenes would have studied in the local gymnasium, where he would have learned physical skills and social discourse as well as reading, writing, arithmetic, poetry, and music.\n",
    "\n",
    "Eratosthenes made several important contributions to mathematics and science, and was a friend of Archimedes. Around 255 BC, he invented the armillary sphere. In On the Circular Motions of the Celestial Bodies, Cleomedes credited him with having calculated the Earth's circumference around 240 BC, with a high precision.\n",
    "\n",
    "Eratosthenes believed there was both good and bad in every nation and criticized Aristotle for arguing that humanity was divided into Greeks and barbarians, as well as for arguing that the Greeks should keep themselves racially pure. As he aged, he contracted ophthalmia, becoming blind around 195 BC. Losing the ability to read and to observe nature plagued and depressed him, leading him to voluntarily starve himself to death. He died in 194 BC at 82 in Alexandria.  \n",
    "\n",
    "\n",
    "\n",
    "### Achievements\n",
    "\n",
    "Eratosthenes was described by the Suda Lexicon as a Πένταθλος (Pentathlos) which can be translated as \"All-Rounder\", for he was skilled in a variety of things: He was a true polymath. He was nicknamed Beta because he was great at many things and tried to get his hands on every bit of information but never achieved the highest rank in anything; Strabo accounts Eratosthenes as a mathematician among geographers and a geographer among mathematicians.\n",
    "\n",
    "1. Eratosthenes found the distance to the Sun to be \"σταδίων μυριάδας τετρακοσίας καὶ ὀκτωκισμυρίας\" (literally \"of stadia myriads 400 and 80,000\") and the distance to the Moon to be 780,000 stadia. The expression for the distance to the Sun has been translated either as 4,080,000 stadia (1903 translation by E. H. Gifford), or as 804,000,000 stadia (edition of Edouard des Places, dated 1974–1991). The meaning depends on whether Eusebius meant 400 myriad plus 80,000 or \"400 and 80,000\" myriad. With a stade of 185 m (607 ft), 804,000,000 stadia is 149,000,000 km (93,000,000 mi), approximately the distance from the Earth to the Sun.\n",
    "\n",
    "1. Eratosthenes also calculated the Sun's diameter. According to Macrobious, Eratosthenes made the diameter of the Sun to be about 27 times that of the Earth. The actual figure is approximately 109 times.\n",
    "\n",
    "1. During his time at the Library of Alexandria, Eratosthenes devised a calendar using his predictions about the ecliptic of the Earth. He calculated that there are 365 days in a year and that every fourth year there would be 366 days.\n",
    "\n",
    "1. He was also very proud of his solution for Doubling the Cube. His motivation was that he wanted to produce catapults. Eratosthenes constructed a mechanical line drawing device to calculate the cube, called the mesolabio. He dedicated his solution to King Ptolemy, presenting a model in bronze with it a letter and an epigram. Archimedes was Eratosthenes' friend and he, too, worked on the war instrument with mathematics. Archimedes dedicated his book The Method to Eratosthenes, knowing his love for learning and mathematics.\n",
    "\n",
    "<br clear=\"left\"/>\n",
    "\n",
    "### Measuring the Diameter of the Earth\n",
    "\n",
    "Eratosthenes made this calculation 200 years before trigonometry was even invented. He simply used the idea of similar triangles as the figure below shows.  He went atop the tower in Alexandria and measured the angle subtended by its shadow. He measured it to be 7 degrees.  He also knew from literature in the magnificient library in Alexandria that one could see a reflection of the sun in a deep well in the city of Syene on the Tropic of Cancer on the day of the Autumnal Equinox. He also knew that Alexandria is directly north of Syene.\n"
   ]
  },
  {
   "cell_type": "markdown",
   "metadata": {
    "tags": []
   },
   "source": [
    "### Your Task1 - Embed earth_cirum.png in a new Markdown cell below!"
   ]
  },
  {
   "cell_type": "markdown",
   "metadata": {},
   "source": [
    "#### Add markdown syntax for embedding earth_circum.png"
   ]
  },
  {
   "cell_type": "markdown",
   "metadata": {},
   "source": [
    "Do you see the similar triangles?  He first assumed that the Sun was very very far away therby the sun's rays arrive parallel when it reaches earth. There for there are 2 alternate-interior angles formed which he measured to be as 7-degrees.  So he made the calculation that if 7-degrees subtends (spans) the shadow.  The distance of the shadow can be calculated as $$shadow-length=\\frac{7}{360}\\times{circumference-of-a-circle-with-radius-of-tower-height}$$ He then used the distance from Syene to Alexandria by egyptian bematists to be 5000 stadia where a stadion (length of a stadium) was known to be 160 meters. "
   ]
  },
  {
   "cell_type": "markdown",
   "metadata": {},
   "source": [
    "Using the same argument in the bigger triangle, he could write the formula for the distance of 5000 stadia subtended from the center of the earth as $$distance-alexandria-to-syene={5000}=\\frac{7}{360}\\times{circumference-of-the-earth-in-stadia!}$$"
   ]
  },
  {
   "cell_type": "markdown",
   "metadata": {},
   "source": [
    "### Your Task2 - Calculate Circumference of Earth by using previous formula in a new code cell below!"
   ]
  },
  {
   "cell_type": "code",
   "execution_count": null,
   "metadata": {},
   "outputs": [],
   "source": [
    "#  Add code here to calculate circumference of the earth in stadia and also in KM"
   ]
  },
  {
   "cell_type": "markdown",
   "metadata": {},
   "source": [
    "### Your Task3 - Calculate the Diameter of the Earth\n",
    "Write a code cell below using this information to calcuate the circumference of the earth and then using the formula for circumference, calculate the diameter of the earth! You may have to add a line to \"import math\" to get the value of PI using math.pi"
   ]
  },
  {
   "cell_type": "code",
   "execution_count": null,
   "metadata": {},
   "outputs": [],
   "source": [
    "#  Add code here to calculate the diameter of the earth in KM"
   ]
  },
  {
   "cell_type": "markdown",
   "metadata": {},
   "source": [
    "### Your Task4 - Calculate the % Error in Eratosthenes Calculation of the Diameter of the Earth\n",
    "Look up the diameter of the Earth from wikipedia.  Create a python variable with this value. Calculate the % error and print it!"
   ]
  },
  {
   "cell_type": "code",
   "execution_count": null,
   "metadata": {},
   "outputs": [],
   "source": [
    "#  Add code here to calculate the % Error in Eratosthenes Calculation of the Diameter of the Earth"
   ]
  },
  {
   "cell_type": "markdown",
   "metadata": {},
   "source": [
    "## You should have a error value below 5%!  Eureka! You are done!"
   ]
  }
 ],
 "metadata": {
  "anaconda-cloud": {},
  "colab": {
   "collapsed_sections": [],
   "name": "Kepler_Activity.ipynb",
   "provenance": [
    {
     "file_id": "1bYd8C31oRzTinq0-T6DiIMUV9NynDM1z",
     "timestamp": 1646600841741
    },
    {
     "file_id": "https://github.com/jimmynewland/colabnotebooks/blob/main/Keplers_3rd_Law_Activity.ipynb",
     "timestamp": 1644378382904
    }
   ]
  },
  "kernelspec": {
   "display_name": "Python 3 (ipykernel)",
   "language": "python",
   "name": "python3"
  },
  "language_info": {
   "codemirror_mode": {
    "name": "ipython",
    "version": 3
   },
   "file_extension": ".py",
   "mimetype": "text/x-python",
   "name": "python",
   "nbconvert_exporter": "python",
   "pygments_lexer": "ipython3",
   "version": "3.9.13"
  }
 },
 "nbformat": 4,
 "nbformat_minor": 4
}
