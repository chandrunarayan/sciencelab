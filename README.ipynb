{
  "cells": [
    {
      "cell_type": "markdown",
      "source": [
        "# Table of Contents - your workshop digital notebooks!\n"
      ],
      "metadata": {
        "id": "zzKLEMods-DG"
      }
    },
    {
      "cell_type": "markdown",
      "source": [
        "## Intro to Jupyter Notebooks\n"
      ],
      "metadata": {
        "id": "bE8YHJ1Fs-DK",
        "tags": []
      }
    }
  ],
  "metadata": {
    "colab": {
      "provenance": []
    },
    "kernelspec": {
      "display_name": "Python 3 (ipykernel)",
      "language": "python",
      "name": "python3"
    },
    "language_info": {
      "codemirror_mode": {
        "name": "ipython",
        "version": 3
      },
      "file_extension": ".py",
      "mimetype": "text/x-python",
      "name": "python",
      "nbconvert_exporter": "python",
      "pygments_lexer": "ipython3",
      "version": "3.9.13"
    },
    "nteract": {
      "version": "0.28.0"
    }
  },
  "nbformat": 4,
  "nbformat_minor": 4
}