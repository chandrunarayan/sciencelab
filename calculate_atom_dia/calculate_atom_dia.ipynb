{
 "cells": [
  {
   "cell_type": "code",
   "execution_count": null,
   "id": "511e8550-1597-4812-a3b4-0b5be72d45d7",
   "metadata": {},
   "outputs": [],
   "source": [
    "import math"
   ]
  },
  {
   "cell_type": "markdown",
   "id": "50d7a326-650c-42af-8b87-70db7818ada1",
   "metadata": {},
   "source": [
    "# FIX THESE ERRORS!\n",
    "![atomdia](images/atomdia.png)\n",
    "![qjump](images/qjump.png)"
   ]
  },
  {
   "cell_type": "markdown",
   "id": "f7a7fc76-d867-46f8-bf7c-8707bd104f7b",
   "metadata": {
    "tags": []
   },
   "source": [
    "# FIX THESE ERRORS!\n",
    "![mono](images/mono.png)"
   ]
  },
  {
   "cell_type": "markdown",
   "id": "e3592219-b460-46d3-9786-5a0443f9a599",
   "metadata": {
    "id": "e3592219-b460-46d3-9786-5a0443f9a599"
   },
   "source": [
    "### 1. Make a 1/400 Dilute solution of Oleic Acid"
   ]
  },
  {
   "cell_type": "code",
   "execution_count": 1,
   "id": "fbd48bde-77d0-436f-bf52-a4f32654f5f1",
   "metadata": {
    "id": "fbd48bde-77d0-436f-bf52-a4f32654f5f1"
   },
   "outputs": [
    {
     "name": "stdout",
     "output_type": "stream",
     "text": [
      "amount_of_oleicacid_in_one_mili_liter_of_alchohol: 0.0025 ml\n"
     ]
    }
   ],
   "source": [
    "amount_of_oleicacid_in_one_mili_liter_of_alchohol = 1/20*1/20\n",
    "print('amount_of_oleicacid_in_one_mili_liter_of_alchohol: ' + f'{amount_of_oleicacid_in_one_mili_liter_of_alchohol:.4f} ml')"
   ]
  },
  {
   "cell_type": "markdown",
   "id": "afc4e8e2-c91e-44ed-b6a3-091280e37b89",
   "metadata": {},
   "source": [
    "# FIX THESE ERRORS!\n",
    "![dilution](images/dilution.png)"
   ]
  },
  {
   "cell_type": "code",
   "execution_count": 2,
   "id": "d8da2c03-21c1-457a-aa1a-7d002b17989d",
   "metadata": {
    "id": "d8da2c03-21c1-457a-aa1a-7d002b17989d"
   },
   "outputs": [
    {
     "name": "stdout",
     "output_type": "stream",
     "text": [
      "diameter_mono_molecular_layer: 1.175e-01 m\n"
     ]
    }
   ],
   "source": [
    "diameter_mono_molecular_layer_cm = 3 #cm   PUT YOUR MEASUREMENT FROM THE EXPERIMENT HERE !!!\n",
    "diameter_mono_molecular_layer = diameter_mono_molecular_layer_cm * 1e-2 #m \n",
    "print('diameter_mono_molecular_layer: ' + f'{diameter_mono_molecular_layer:3.3e} m')"
   ]
  },
  {
   "cell_type": "markdown",
   "id": "0ab87de0-8d5e-43e5-b615-15c3b5d07f34",
   "metadata": {
    "id": "0ab87de0-8d5e-43e5-b615-15c3b5d07f34"
   },
   "source": [
    "### 2. Measure the number of drops in one mililiter of alchohol"
   ]
  },
  {
   "cell_type": "code",
   "execution_count": 3,
   "id": "e366c85a-db46-4b29-99c1-22872a67fe90",
   "metadata": {
    "id": "e366c85a-db46-4b29-99c1-22872a67fe90"
   },
   "outputs": [
    {
     "name": "stdout",
     "output_type": "stream",
     "text": [
      "no_of_drops_in_one_mili_liter_of_alchohol:  42 drops\n"
     ]
    }
   ],
   "source": [
    "no_of_drops_in_one_mili_liter_of_alchohol = 42 # We need to find this experimentally!\n",
    "print('no_of_drops_in_one_mili_liter_of_alchohol: ' + f'{no_of_drops_in_one_mili_liter_of_alchohol:3.0f} drops')"
   ]
  },
  {
   "cell_type": "markdown",
   "id": "56fe16a8-a8c5-4dee-b983-eb54c457bc4c",
   "metadata": {
    "id": "56fe16a8-a8c5-4dee-b983-eb54c457bc4c"
   },
   "source": [
    "### 3. Calculate the amount of Oleic acid in one drop of dilution solution"
   ]
  },
  {
   "cell_type": "code",
   "execution_count": 4,
   "id": "a34ef3d0-5045-4005-b528-7f4ccc382285",
   "metadata": {
    "id": "a34ef3d0-5045-4005-b528-7f4ccc382285"
   },
   "outputs": [
    {
     "name": "stdout",
     "output_type": "stream",
     "text": [
      "oleic_acid_in_one_drop_of_solution: 5.952e-11 m^3\n"
     ]
    }
   ],
   "source": [
    "oleic_acid_in_one_drop_of_solution_ml = amount_of_oleicacid_in_one_mili_liter_of_alchohol / no_of_drops_in_one_mili_liter_of_alchohol  # We need to find this experimentally!\n",
    "oleic_acid_in_one_drop_of_solution = oleic_acid_in_one_drop_of_solution_ml * 1e-6\n",
    "print('oleic_acid_in_one_drop_of_solution: ' + f'{oleic_acid_in_one_drop_of_solution:3.3e} m^3')"
   ]
  },
  {
   "cell_type": "markdown",
   "id": "ba8f7b7f-8bbe-4c4e-9140-ef3174f62a6c",
   "metadata": {
    "id": "ba8f7b7f-8bbe-4c4e-9140-ef3174f62a6c"
   },
   "source": [
    "### 4. Measure the Mono Molecular Layer!"
   ]
  },
  {
   "cell_type": "markdown",
   "id": "138fb163-10ec-4300-8827-cf9b9d3f1b43",
   "metadata": {
    "id": "138fb163-10ec-4300-8827-cf9b9d3f1b43"
   },
   "source": [
    "### 5. Calculate the area of the Mono Molecular Layer Disk\n"
   ]
  },
  {
   "cell_type": "code",
   "execution_count": 5,
   "id": "vKl-YI1JTb4g",
   "metadata": {
    "id": "vKl-YI1JTb4g"
   },
   "outputs": [
    {
     "name": "stdout",
     "output_type": "stream",
     "text": [
      "area_of_mono_molecular_disk: 1.084e-02 m\n"
     ]
    }
   ],
   "source": [
    "import math\n",
    "area_of_mono_molecular_disk = math.pi * diameter_mono_molecular_layer**2 / 4\n",
    "print('area_of_mono_molecular_disk: ' + f'{area_of_mono_molecular_disk:3.3e} m')"
   ]
  },
  {
   "cell_type": "markdown",
   "id": "1GgMkCFBUI01",
   "metadata": {
    "id": "1GgMkCFBUI01",
    "tags": []
   },
   "source": [
    "## 6. Calculate the Thickness of the Mono Molecular Disk.\n",
    "### This is the Volume of the Oleic Acid in one droplet divided by the Area of the Mono Molecular Disk!"
   ]
  },
  {
   "cell_type": "code",
   "execution_count": 6,
   "id": "61dcbbf0-a60f-44a2-95f8-39f868701497",
   "metadata": {
    "id": "4c2a69a2-07e0-40d5-be90-6f392c03f197",
    "tags": []
   },
   "outputs": [
    {
     "name": "stdout",
     "output_type": "stream",
     "text": [
      "thickness_of_mono_molecular_layer: 5.489e-09 m\n",
      "no_of_carbon_atoms_in_a_oleic_acid_molecule: 17\n"
     ]
    }
   ],
   "source": [
    "thickness_of_mono_molecular_layer = oleic_acid_in_one_drop_of_solution / area_of_mono_molecular_disk\n",
    "print('thickness_of_mono_molecular_layer: ' + f'{thickness_of_mono_molecular_layer:3.3e} m')\n",
    "no_of_carbon_atoms_in_a_oleic_acid_molecule = 17\n",
    "print('no_of_carbon_atoms_in_a_oleic_acid_molecule: ' + f'{no_of_carbon_atoms_in_a_oleic_acid_molecule:2d}')"
   ]
  },
  {
   "cell_type": "markdown",
   "id": "4aa1e523-6225-4069-af2f-a300a422c2cb",
   "metadata": {},
   "source": [
    "# FIX THESE ERRORS!\n",
    "![disk](images/disk.png)"
   ]
  },
  {
   "cell_type": "markdown",
   "id": "aff9e003-a747-42df-9e5e-705c406cd0c4",
   "metadata": {
    "id": "aff9e003-a747-42df-9e5e-705c406cd0c4"
   },
   "source": [
    "### 7. Calculate the Diameter of Carbon Atom !!\n"
   ]
  },
  {
   "cell_type": "code",
   "execution_count": 7,
   "id": "8fb66743-c363-4700-bbd2-87f1cb3c8160",
   "metadata": {
    "id": "8fb66743-c363-4700-bbd2-87f1cb3c8160"
   },
   "outputs": [
    {
     "name": "stdout",
     "output_type": "stream",
     "text": [
      "diameter_of_a_single_carbon_atom: 3.229e-10 m\n"
     ]
    }
   ],
   "source": [
    "diameter_of_a_single_carbon_atom = thickness_of_mono_molecular_layer /  no_of_carbon_atoms_in_a_oleic_acid_molecule\n",
    "print('diameter_of_a_single_carbon_atom: ' + f'{diameter_of_a_single_carbon_atom:3.3e} m')"
   ]
  },
  {
   "cell_type": "markdown",
   "id": "3673673d-4db3-47b9-be30-6d52bc906e36",
   "metadata": {},
   "source": [
    "#### [Hyperphysics Carbon Atom Diameter](http://hyperphysics.phy-astr.gsu.edu/hbase/Particles/atomsiz.html) is 0.22nm or $$=2.2\\times10^{-10}m$$"
   ]
  },
  {
   "cell_type": "code",
   "execution_count": 8,
   "id": "b1d92082-3a9c-42fc-b4bb-6653457ed228",
   "metadata": {},
   "outputs": [
    {
     "name": "stdout",
     "output_type": "stream",
     "text": [
      "Error in experimental measurement of the diameter of a single carbon atom: -0.47%\n"
     ]
    }
   ],
   "source": [
    "actual_diameter_of_a_single_carbon_atom = 2.2e-10\n",
    "error_percent = (actual_diameter_of_a_single_carbon_atom - diameter_of_a_single_carbon_atom)/actual_diameter_of_a_single_carbon_atom\n",
    "print(\"Error in experimental measurement of the diameter of a single carbon atom: \"+ f'{error_percent:.2f}' + '%')"
   ]
  },
  {
   "cell_type": "markdown",
   "id": "fc26d75e-ca88-42f1-91ff-3288d85e10f3",
   "metadata": {
    "id": "fc26d75e-ca88-42f1-91ff-3288d85e10f3"
   },
   "source": [
    "### WOWZERS! !!\n"
   ]
  },
  {
   "cell_type": "code",
   "execution_count": null,
   "id": "1ebdd302-b60c-4e6e-bd49-96c7b139ac97",
   "metadata": {},
   "outputs": [],
   "source": []
  },
  {
   "cell_type": "code",
   "execution_count": null,
   "id": "862f017f-c8fd-46b1-b4d5-f55b6e406aa6",
   "metadata": {},
   "outputs": [],
   "source": []
  },
  {
   "cell_type": "code",
   "execution_count": null,
   "id": "ddd0c511-33aa-4da6-8fec-602cba63e4f1",
   "metadata": {},
   "outputs": [],
   "source": []
  },
  {
   "cell_type": "code",
   "execution_count": null,
   "id": "51b17f30-d2b9-4246-b10c-5f69e2cfb1b0",
   "metadata": {},
   "outputs": [],
   "source": []
  }
 ],
 "metadata": {
  "colab": {
   "collapsed_sections": [],
   "provenance": []
  },
  "kernelspec": {
   "display_name": "Python 3 (ipykernel)",
   "language": "python",
   "name": "python3"
  },
  "language_info": {
   "codemirror_mode": {
    "name": "ipython",
    "version": 3
   },
   "file_extension": ".py",
   "mimetype": "text/x-python",
   "name": "python",
   "nbconvert_exporter": "python",
   "pygments_lexer": "ipython3",
   "version": "3.9.13"
  }
 },
 "nbformat": 4,
 "nbformat_minor": 5
}
